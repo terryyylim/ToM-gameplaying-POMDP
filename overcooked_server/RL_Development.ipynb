{
 "cells": [
  {
   "cell_type": "code",
   "execution_count": 1,
   "metadata": {},
   "outputs": [
    {
     "name": "stdout",
     "output_type": "stream",
     "text": [
      "WARNING: Not monitoring node memory since `psutil` is not installed. Install this with `pip install psutil` (or ray[debug]) to enable debugging of memory-related crashes.\n"
     ]
    }
   ],
   "source": [
    "import torch\n",
    "import numpy as np\n",
    "from overcooked_env import OvercookedEnv\n",
    "from rl_utils import vectorize_world_state, flip_array\n",
    "from settings import AI_AGENTS, HUMAN_AGENTS"
   ]
  },
  {
   "cell_type": "code",
   "execution_count": 2,
   "metadata": {},
   "outputs": [],
   "source": [
    "%load_ext autoreload\n",
    "%autoreload 2"
   ]
  },
  {
   "cell_type": "code",
   "execution_count": 3,
   "metadata": {
    "scrolled": true
   },
   "outputs": [
    {
     "name": "stdout",
     "output_type": "stream",
     "text": [
      "Removing agent current location from valid_cells, valid_item_cells list\n",
      "Valid cell is already updated\n"
     ]
    }
   ],
   "source": [
    "final_HUMAN_AGENTS = {k:v for k,v in HUMAN_AGENTS.items() if k == '1'}\n",
    "AI_AGENTS_TO_INITIALIZE = {}\n",
    "for idx in range(1, 2+1):\n",
    "    idx = str(idx)\n",
    "    AI_AGENTS_TO_INITIALIZE[idx] = AI_AGENTS[idx]\n",
    "\n",
    "env = OvercookedEnv(\n",
    "                human_agents=final_HUMAN_AGENTS,\n",
    "                ai_agents=AI_AGENTS_TO_INITIALIZE)"
   ]
  },
  {
   "cell_type": "code",
   "execution_count": 4,
   "metadata": {},
   "outputs": [
    {
     "name": "stdout",
     "output_type": "stream",
     "text": [
      "(4, 1)\n",
      "[[0. 0. 0. 0. 0. 0. 0. 0. 0. 0. 0. 0. 0.]\n",
      " [0. 0. 0. 0. 0. 0. 0. 0. 0. 0. 0. 0. 0.]\n",
      " [0. 0. 0. 0. 0. 0. 0. 0. 0. 0. 0. 0. 0.]\n",
      " [0. 0. 0. 0. 0. 0. 0. 0. 0. 0. 0. 0. 0.]\n",
      " [0. 1. 0. 0. 0. 0. 0. 0. 0. 0. 0. 0. 0.]\n",
      " [0. 0. 0. 0. 0. 0. 0. 0. 0. 0. 0. 0. 0.]\n",
      " [0. 0. 0. 0. 0. 0. 0. 0. 0. 0. 0. 0. 0.]\n",
      " [0. 0. 0. 0. 0. 0. 0. 0. 0. 0. 0. 0. 0.]\n",
      " [0. 0. 0. 0. 0. 0. 0. 0. 0. 0. 0. 0. 0.]] /n\n",
      "@map_env - step()\n",
      "{<human_agent.HumanAgent object at 0x7f625dc047f0>: (0, 1), <overcooked_agent.OvercookedAgent object at 0x7f625dc04860>: (0, 1), <overcooked_agent.OvercookedAgent object at 0x7f625dc04908>: (0, 1)}\n",
      "@map_env - update_moves()\n",
      "{<human_agent.HumanAgent object at 0x7f625dc047f0>: (0, 1), <overcooked_agent.OvercookedAgent object at 0x7f625dc04860>: (0, 1), <overcooked_agent.OvercookedAgent object at 0x7f625dc04908>: (0, 1)}\n",
      "(0, 1)\n",
      "map_env@update_moves - Movement found\n",
      "(0, 1)\n",
      "map_env@update_moves - Movement found\n",
      "(0, 1)\n",
      "map_env@update_moves - Movement found\n",
      "@map_env - Starting moves (if any)\n",
      "[(4, 2), (4, 2), (4, 2)]\n",
      "[<human_agent.HumanAgent object at 0x7f625dc047f0>, <overcooked_agent.OvercookedAgent object at 0x7f625dc04860>, <overcooked_agent.OvercookedAgent object at 0x7f625dc04908>]\n",
      "{(4, 1): <overcooked_agent.OvercookedAgent object at 0x7f625dc04908>, (4, 2): <overcooked_agent.OvercookedAgent object at 0x7f625dc04860>}\n",
      "{<human_agent.HumanAgent object at 0x7f625dc047f0>: (4, 2), <overcooked_agent.OvercookedAgent object at 0x7f625dc04860>: (4, 2), <overcooked_agent.OvercookedAgent object at 0x7f625dc04908>: (4, 2)}\n",
      "@map_env - Starting fix (if any)\n",
      "[[4 2]]\n",
      "[0]\n",
      "[3]\n",
      "[[4 2]\n",
      " [4 2]\n",
      " [4 2]]\n",
      "@map_env - Ended fix (if any)\n",
      "((4, 2), (4, 2), (4, 2))\n",
      "(<overcooked_agent.OvercookedAgent object at 0x7f625dc04908>, <overcooked_agent.OvercookedAgent object at 0x7f625dc04860>, <human_agent.HumanAgent object at 0x7f625dc047f0>)\n",
      "{(4, 1): <overcooked_agent.OvercookedAgent object at 0x7f625dc04908>, (4, 2): <overcooked_agent.OvercookedAgent object at 0x7f625dc04860>}\n",
      "{<human_agent.HumanAgent object at 0x7f625dc047f0>: (4, 1), <overcooked_agent.OvercookedAgent object at 0x7f625dc04860>: (4, 2), <overcooked_agent.OvercookedAgent object at 0x7f625dc04908>: (4, 1)}\n",
      "@map_env - Starting un-conflicted moves (if any)\n",
      "inside agent move\n",
      "<human_agent.HumanAgent object at 0x7f625dc047f0>\n",
      "(4, 1)\n",
      "[(4, 1), (4, 2), (4, 1)]\n",
      "inside agent move\n",
      "<overcooked_agent.OvercookedAgent object at 0x7f625dc04860>\n",
      "(4, 2)\n",
      "[(4, 1), (4, 2), (4, 1)]\n",
      "inside agent move\n",
      "<overcooked_agent.OvercookedAgent object at 0x7f625dc04908>\n",
      "(4, 1)\n",
      "[(4, 1), (4, 2), (4, 1)]\n",
      "inside agent move\n",
      "<human_agent.HumanAgent object at 0x7f625dc047f0>\n",
      "(4, 1)\n",
      "[(4, 1), (4, 2), (4, 1)]\n",
      "@map_env - Executing Task Handlers\n",
      "after 1 cycle\n",
      "[(0, 1), (0, 2), (0, 10), (0, 11), (1, 1), (1, 2), (1, 3), (1, 4), (1, 5), (1, 7), (1, 8), (1, 9), (1, 10), (1, 11), (2, 1), (2, 2), (2, 3), (2, 4), (2, 5), (2, 7), (2, 8), (2, 9), (2, 10), (2, 11), (3, 1), (3, 2), (3, 4), (3, 5), (3, 7), (3, 8), (3, 10), (3, 11), (4, 2), (4, 4), (4, 5), (4, 7), (4, 8), (4, 10), (4, 11), (5, 1), (5, 2), (5, 4), (5, 5), (5, 7), (5, 8), (5, 10), (5, 11), (6, 1), (6, 2), (6, 4), (6, 5), (6, 6), (6, 7), (6, 8), (6, 10), (6, 11), (7, 1), (7, 2), (7, 4), (7, 5), (7, 6), (7, 7), (7, 8), (7, 10), (7, 11), (8, 1), (8, 10), (8, 11)]\n",
      "(4, 1)\n",
      "[[0. 0. 0. 0. 0. 0. 0. 0. 0. 0. 0. 0. 0.]\n",
      " [0. 0. 0. 0. 0. 0. 0. 0. 0. 0. 0. 0. 0.]\n",
      " [0. 0. 0. 0. 0. 0. 0. 0. 0. 0. 0. 0. 0.]\n",
      " [0. 0. 0. 0. 0. 0. 0. 0. 0. 0. 0. 0. 0.]\n",
      " [0. 1. 0. 0. 0. 0. 0. 0. 0. 0. 0. 0. 0.]\n",
      " [0. 0. 0. 0. 0. 0. 0. 0. 0. 0. 0. 0. 0.]\n",
      " [0. 0. 0. 0. 0. 0. 0. 0. 0. 0. 0. 0. 0.]\n",
      " [0. 0. 0. 0. 0. 0. 0. 0. 0. 0. 0. 0. 0.]\n",
      " [0. 0. 0. 0. 0. 0. 0. 0. 0. 0. 0. 0. 0.]] /n\n"
     ]
    }
   ],
   "source": [
    "actions = {agent: (0,1) for agent in env.world_state['agents']}\n",
    "print (env.world_state['agents'][0].location)\n",
    "print (vectorize_world_state(env.world_state)[0,0])\n",
    "\n",
    "env.step(actions)\n",
    "print (env.world_state['agents'][0].location)\n",
    "print (vectorize_world_state(env.world_state)[0,0])"
   ]
  },
  {
   "cell_type": "code",
   "execution_count": 11,
   "metadata": {},
   "outputs": [],
   "source": [
    "from rl_base_agent import Base_Agent, ConvMLPNetwork "
   ]
  },
  {
   "cell_type": "code",
   "execution_count": 12,
   "metadata": {},
   "outputs": [],
   "source": [
    "sample_world_state = vectorize_world_state(env.world_state)\n",
    "action_space = 15\n",
    "input_space = sample_world_state.shape[1]\n",
    "\n",
    "params = {'NUM_HIDDEN_LAYERS':3,\n",
    "          'SIZE_HIDDEN_LAYERS':64,\n",
    "          'NUM_FILTERS':25,\n",
    "          'NUM_CONV_LAYERS':3,\n",
    "         'OBS_STATE_SHAPE':(sample_world_state.shape[-1],sample_world_state.shape[-2])}\n",
    "\n",
    "ppo = ConvMLPNetwork(input_size = input_space, output_size = action_space, params = params)"
   ]
  },
  {
   "cell_type": "code",
   "execution_count": 13,
   "metadata": {},
   "outputs": [],
   "source": [
    "ppo = ppo.double()"
   ]
  },
  {
   "cell_type": "code",
   "execution_count": 14,
   "metadata": {},
   "outputs": [],
   "source": [
    "tensored_ = torch.from_numpy(sample_world_state)"
   ]
  },
  {
   "cell_type": "code",
   "execution_count": 15,
   "metadata": {},
   "outputs": [
    {
     "name": "stdout",
     "output_type": "stream",
     "text": [
      "2925\n",
      "4125\n"
     ]
    }
   ],
   "source": [
    "print (13*9*25)\n",
    "print (25*11*15)"
   ]
  },
  {
   "cell_type": "code",
   "execution_count": 16,
   "metadata": {},
   "outputs": [
    {
     "name": "stdout",
     "output_type": "stream",
     "text": [
      "torch.Size([1, 25, 11, 15])\n",
      "torch.Size([1, 25, 9, 13])\n"
     ]
    },
    {
     "name": "stderr",
     "output_type": "stream",
     "text": [
      "/home/sidney/aiap/ToM-gameplaying-POMDP/overcooked_server/rl_base_agent.py:371: UserWarning: Implicit dimension choice for softmax has been deprecated. Change the call to include dim=X as an argument.\n",
      "  x = F.softmax(linear_final(x))\n"
     ]
    },
    {
     "data": {
      "text/plain": [
       "tensor([[0.0721, 0.0740, 0.0676, 0.0606, 0.0645, 0.0697, 0.0719, 0.0614, 0.0642,\n",
       "         0.0659, 0.0687, 0.0704, 0.0653, 0.0586, 0.0651]],\n",
       "       dtype=torch.float64, grad_fn=<SoftmaxBackward>)"
      ]
     },
     "execution_count": 16,
     "metadata": {},
     "output_type": "execute_result"
    }
   ],
   "source": [
    "ppo(tensored_)"
   ]
  }
 ],
 "metadata": {
  "kernelspec": {
   "display_name": "Python 3",
   "language": "python",
   "name": "python3"
  },
  "language_info": {
   "codemirror_mode": {
    "name": "ipython",
    "version": 3
   },
   "file_extension": ".py",
   "mimetype": "text/x-python",
   "name": "python",
   "nbconvert_exporter": "python",
   "pygments_lexer": "ipython3",
   "version": "3.6.9"
  },
  "toc": {
   "base_numbering": 1,
   "nav_menu": {},
   "number_sections": true,
   "sideBar": true,
   "skip_h1_title": false,
   "title_cell": "Table of Contents",
   "title_sidebar": "Contents",
   "toc_cell": false,
   "toc_position": {},
   "toc_section_display": true,
   "toc_window_display": false
  }
 },
 "nbformat": 4,
 "nbformat_minor": 4
}
